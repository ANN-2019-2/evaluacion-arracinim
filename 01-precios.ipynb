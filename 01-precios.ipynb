{
 "cells": [
  {
   "cell_type": "markdown",
   "execution_count": null,
   "metadata": {
    "colab": {},
    "colab_type": "code",
    "id": "n3lnWjvI83ix"
   },
   "outputs": [],
   "source": [
    "# Pronóstico adaptativo"
   ]
  },
  {
   "cell_type": "markdown",
   "execution_count": null,
   "metadata": {},
   "outputs": [],
   "source": [
    "## Descripción del problema real"
   ]
  },
  {
   "cell_type": "markdown",
   "execution_count": null,
   "metadata": {},
   "outputs": [],
   "source": [
    "Los pronósticos de los precios de la electricidad en mercados liberalizados son un insumo fundamental para la toma de decisiones dentro de las organizaciones. Fundamentalmente, los pronosticos de corto plazo son utilizados en decisiones de carácter operativo. En el caso abordado, es necesario contar con los pronósticos para definir la politica de operación de una empresa del sector eléctrico."
   ]
  },
  {
   "cell_type": "markdown",
   "execution_count": null,
   "metadata": {},
   "outputs": [],
   "source": [
    "## Descripción del problema en términos de los datos"
   ]
  },
  {
   "cell_type": "markdown",
   "execution_count": null,
   "metadata": {},
   "outputs": [],
   "source": [
    "La carpeta `datos/precios/` contiene los precios historicos horarios de la electricidad en la Bolsa de Energía del mercado eléctrico colombiano, publicados por el operador del mercado. Se desean obtener pronósticos para el precio promedio diario para los próximos siete (7) días a la fecha actual."
   ]
  },
  {
   "cell_type": "markdown",
   "execution_count": null,
   "metadata": {},
   "outputs": [],
   "source": [
    "## Aproximaciones posibles"
   ]
  },
  {
   "cell_type": "markdown",
   "execution_count": null,
   "metadata": {},
   "outputs": [],
   "source": [
    "En este caso, se desea evaluar la capacidad de pronóstico de un ADALINE con aprendizaje en línea."
   ]
  },
  {
   "cell_type": "markdown",
   "execution_count": null,
   "metadata": {},
   "outputs": [],
   "source": [
    "## Requerimientos"
   ]
  },
  {
   "cell_type": "markdown",
   "execution_count": null,
   "metadata": {},
   "outputs": [],
   "source": [
    "Usted debe:\n",
    "\n",
    "* Procesar los datos históricos para conformar el conjunto de datos. Los archivos de Excel no pueden ser modificados y actualizados directamente por el operador del sistema. Su código debe leer los archivos y crear la serie de precios promedio diarios de la electricidad.\n",
    "\n",
    "\n",
    "* Determinar si el modelo debe pronosticar los precios promedios sin ninguna transformación, o si la inclusión de una transformación (logaritmo natural, raíz cúbica, raíz cuadrada, etc) resulta en un incremento de la precisión del pronóstico.\n",
    "\n",
    "\n",
    "* Generar el pronóstico para los precios de los próximos siete días.\n",
    "\n",
    "\n",
    "* Preparar el código para que el modelo sea entrenado usando el gradiente y el momentum.\n",
    "\n",
    "\n",
    "* Determinar cuál es el número óptimo de retardos (observaciones) que el modelo debe considerar hacia atrás para producir el pronóstico.\n",
    "\n",
    "\n",
    "* Determinar los valores óptimos de la tasa de aprendizaje y el momentum.\n"
   ]
  },
  {
   "cell_type": "markdown",
   "execution_count": null,
   "metadata": {},
   "outputs": [],
   "source": [
    "# Angel Racini Meza\n",
    "## C.C 1017248189\n"
   ]
  },
  {
   "cell_type": "markdown",
   "execution_count": null,
   "metadata": {},
   "outputs": [],
   "source": [
    "## Importanto Librerias"
   ]
  },
  {
   "cell_type": "code",
   "execution_count": 76,
   "metadata": {},
   "outputs": [],
   "source": [
    "import pandas as pd\n",
    "import numpy as np \n",
    "import os\n",
    "from pathlib import Path\n",
    "from matplotlib import pyplot as plt\n",
    "from datetime import datetime\n",
    "%matplotlib inline"
   ]
  },
  {
   "cell_type": "markdown",
   "execution_count": null,
   "metadata": {},
   "outputs": [],
   "source": [
    "## Preprocesando los datos"
   ]
  },
  {
   "cell_type": "code",
   "execution_count": null,
   "metadata": {},
   "outputs": [],
   "source": [
    "#Extrayendo los archivos de la carpeta precios\n",
    "dfs =  []\n",
    "path  = r'C:\\Users\\ANGEL\\Desktop\\Trabajo Redes Neuronales\\evaluacion-arracinim\\datos\\precios'\n",
    "datos = os.listdir(path)\n",
    "\n",
    "Consolidado = pd.read_excel(path+\"\\\\\"+datos[0])\n",
    "Consolidado = Consolidado.iloc[:,0:25]\n",
    "Consolidado = Consolidado.dropna()\n",
    "Consolidado.rename(columns=Consolidado.iloc[0], inplace = True)\n",
    "Consolidado = Consolidado.drop(Consolidado.index[0])\n",
    "Consolidado.reset_index(drop=True, inplace=True)\n",
    "Consolidado.columns = ['Fecha', \"0\", \"1\", \"2\", \"3\", \"4\", \"5\", \"6\", \"7\", \"8\", \"9\", \"10\", \"11\", \"12\", \"13\", \"14\",                             \"15\", \"16\", \"17\", \"18\", \"19\", \"20\", \"21\", \"22\", \"23\"]\n",
    "\n",
    "file_number = 0\n",
    "\n",
    "for archivo in datos:\n",
    "    if file_number == 0:\n",
    "        file_number = file_number + 1\n",
    "    else:\n",
    "        df = pd.read_excel(path+\"\\\\\"+archivo)\n",
    "        df  = df.iloc[:,0:25]\n",
    "        df = df.dropna()       \n",
    "        df.rename(columns=Consolidado.iloc[0], inplace = True)\n",
    "        df = df.drop(df.index[0])\n",
    "        df.reset_index(drop=True, inplace=True)\n",
    "        df.columns = ['Fecha', \"0\", \"1\", \"2\", \"3\", \"4\", \"5\", \"6\", \"7\", \"8\", \"9\", \"10\", \"11\", \"12\", \"13\", \"14\",                             \"15\", \"16\", \"17\", \"18\", \"19\", \"20\", \"21\", \"22\", \"23\"]\n",
    "        Consolidado = pd.concat([Consolidado, df])\n",
    "\n",
    "#IMPRIMIENDO LOS PRIMEROS 5 REGISTROS DEL ARCHIVO CONSOLIDADO\n",
    "Consolidado.head(5)"
   ]
  },
  {
   "cell_type": "code",
   "execution_count": 150,
   "metadata": {},
   "outputs": [],
   "source": [
    "#Obteniendo el promedio para cada dia\n",
    "Precios_Promedio = Consolidado.set_index('Fecha')\n",
    "Precios_Promedio['Precio_Promedio'] = Precios_Promedio.sum(axis = 1) / 24.0\n",
    "Precios_Promedio = Precios_Promedio.loc[:,'Precio_Promedio']\n",
    "Precios_Promedio = Precios_Promedio.reset_index()\n",
    "\n",
    "#Leyendolos datos del banco de la republica\n",
    "IPC = pd.read_excel(r\"C:\\Users\\ANGEL\\Desktop\\Trabajo Redes Neuronales\\evaluacion-arracinim\\1.2.5.IPC_Serie_variaciones.xlsx\", header = 12)\n",
    "IPC = IPC.iloc[:,0:2] \n",
    "IPC = IPC.iloc[:-6] #No nos interesa las ultima 6 columnas correspondientes a los creditos\n",
    "IPC.columns = ['Date_Month', 'IPC']\n",
    "\n",
    "#Convierto las fechas a formato YYYY-MM\n",
    "\n",
    "IPC['Date_Month'] = IPC['Date_Month'].astype(str)\n",
    "IPC['Date_Month'] = IPC['Date_Month'].apply(lambda x: x[:4] + '-' + x[4:])\n",
    "IPC['Date_Month'] = pd.to_datetime(IPC['Date_Month']).dt.to_period('M')\n",
    "Precios_Promedio['Date_Month'] = pd.to_datetime(Precios_Promedio['Fecha']).dt.to_period('M')\n",
    "\n",
    "\n",
    "#Haciendo un merge para calcular los nuevos precios\n",
    "Precios = pd.merge(Precios_Promedio, IPC[[\"Date_Month\", \"IPC\"]], on=\"Date_Month\", how=\"left\")\n",
    "\n",
    "#Recalculando el valor del peso al valor actual segun el IPC para cada fila\n",
    "IPC_ACTUAL = IPC.tail(1).iloc[0,1]\n",
    "Precios['Precio_Promedio_Ajustado'] =  Precios['Precio_Promedio'] * (IPC_ACTUAL / Precios['IPC'])\n",
    "Precios.head(5)"
   ]
  },
  {
   "cell_type": "code",
   "execution_count": 151,
   "metadata": {},
   "outputs": [
    {
     "data": {
      "text/html": "<div>\n<style scoped>\n    .dataframe tbody tr th:only-of-type {\n        vertical-align: middle;\n    }\n\n    .dataframe tbody tr th {\n        vertical-align: top;\n    }\n\n    .dataframe thead th {\n        text-align: right;\n    }\n</style>\n<table border=\"1\" class=\"dataframe\">\n  <thead>\n    <tr style=\"text-align: right;\">\n      <th></th>\n      <th>Fecha</th>\n      <th>Precio_Promedio</th>\n      <th>Date_Month</th>\n      <th>IPC</th>\n      <th>Precio_Promedio_Ajustado</th>\n    </tr>\n  </thead>\n  <tbody>\n    <tr>\n      <th>0</th>\n      <td>1995-07-21</td>\n      <td>4.924333</td>\n      <td>1995-07</td>\n      <td>20.93</td>\n      <td>24.689897</td>\n    </tr>\n    <tr>\n      <th>1</th>\n      <td>1995-07-22</td>\n      <td>1.269500</td>\n      <td>1995-07</td>\n      <td>20.93</td>\n      <td>6.365090</td>\n    </tr>\n    <tr>\n      <th>2</th>\n      <td>1995-07-23</td>\n      <td>0.953083</td>\n      <td>1995-07</td>\n      <td>20.93</td>\n      <td>4.778622</td>\n    </tr>\n    <tr>\n      <th>3</th>\n      <td>1995-07-24</td>\n      <td>4.305917</td>\n      <td>1995-07</td>\n      <td>20.93</td>\n      <td>21.589245</td>\n    </tr>\n    <tr>\n      <th>4</th>\n      <td>1995-07-25</td>\n      <td>1.149167</td>\n      <td>1995-07</td>\n      <td>20.93</td>\n      <td>5.761756</td>\n    </tr>\n    <tr>\n      <th>5</th>\n      <td>1995-07-26</td>\n      <td>1.108625</td>\n      <td>1995-07</td>\n      <td>20.93</td>\n      <td>5.558486</td>\n    </tr>\n    <tr>\n      <th>6</th>\n      <td>1995-07-27</td>\n      <td>0.585958</td>\n      <td>1995-07</td>\n      <td>20.93</td>\n      <td>2.937911</td>\n    </tr>\n    <tr>\n      <th>7</th>\n      <td>1995-07-28</td>\n      <td>0.499792</td>\n      <td>1995-07</td>\n      <td>20.93</td>\n      <td>2.505883</td>\n    </tr>\n    <tr>\n      <th>8</th>\n      <td>1995-07-29</td>\n      <td>0.927667</td>\n      <td>1995-07</td>\n      <td>20.93</td>\n      <td>4.651187</td>\n    </tr>\n    <tr>\n      <th>9</th>\n      <td>1995-07-30</td>\n      <td>0.669458</td>\n      <td>1995-07</td>\n      <td>20.93</td>\n      <td>3.356567</td>\n    </tr>\n    <tr>\n      <th>10</th>\n      <td>1995-07-31</td>\n      <td>0.679458</td>\n      <td>1995-07</td>\n      <td>20.93</td>\n      <td>3.406706</td>\n    </tr>\n    <tr>\n      <th>11</th>\n      <td>1995-08-01</td>\n      <td>1.106917</td>\n      <td>1995-08</td>\n      <td>21.07</td>\n      <td>5.513044</td>\n    </tr>\n    <tr>\n      <th>12</th>\n      <td>1995-08-02</td>\n      <td>1.077500</td>\n      <td>1995-08</td>\n      <td>21.07</td>\n      <td>5.366533</td>\n    </tr>\n    <tr>\n      <th>13</th>\n      <td>1995-08-03</td>\n      <td>1.517917</td>\n      <td>1995-08</td>\n      <td>21.07</td>\n      <td>7.560046</td>\n    </tr>\n    <tr>\n      <th>14</th>\n      <td>1995-08-04</td>\n      <td>1.786042</td>\n      <td>1995-08</td>\n      <td>21.07</td>\n      <td>8.895454</td>\n    </tr>\n    <tr>\n      <th>15</th>\n      <td>1995-08-05</td>\n      <td>2.383792</td>\n      <td>1995-08</td>\n      <td>21.07</td>\n      <td>11.872572</td>\n    </tr>\n    <tr>\n      <th>16</th>\n      <td>1995-08-06</td>\n      <td>2.387583</td>\n      <td>1995-08</td>\n      <td>21.07</td>\n      <td>11.891457</td>\n    </tr>\n    <tr>\n      <th>17</th>\n      <td>1995-08-07</td>\n      <td>3.707208</td>\n      <td>1995-08</td>\n      <td>21.07</td>\n      <td>18.463903</td>\n    </tr>\n    <tr>\n      <th>18</th>\n      <td>1995-08-08</td>\n      <td>6.650000</td>\n      <td>1995-08</td>\n      <td>21.07</td>\n      <td>33.120598</td>\n    </tr>\n    <tr>\n      <th>19</th>\n      <td>1995-08-09</td>\n      <td>13.991958</td>\n      <td>1995-08</td>\n      <td>21.07</td>\n      <td>69.687523</td>\n    </tr>\n    <tr>\n      <th>20</th>\n      <td>1995-08-10</td>\n      <td>20.041667</td>\n      <td>1995-08</td>\n      <td>21.07</td>\n      <td>99.818344</td>\n    </tr>\n    <tr>\n      <th>21</th>\n      <td>1995-08-11</td>\n      <td>21.191667</td>\n      <td>1995-08</td>\n      <td>21.07</td>\n      <td>105.545966</td>\n    </tr>\n    <tr>\n      <th>22</th>\n      <td>1995-08-12</td>\n      <td>30.710750</td>\n      <td>1995-08</td>\n      <td>21.07</td>\n      <td>152.956151</td>\n    </tr>\n    <tr>\n      <th>23</th>\n      <td>1995-08-13</td>\n      <td>34.327833</td>\n      <td>1995-08</td>\n      <td>21.07</td>\n      <td>170.971183</td>\n    </tr>\n    <tr>\n      <th>24</th>\n      <td>1995-08-14</td>\n      <td>33.190250</td>\n      <td>1995-08</td>\n      <td>21.07</td>\n      <td>165.305403</td>\n    </tr>\n    <tr>\n      <th>25</th>\n      <td>1995-08-15</td>\n      <td>14.513250</td>\n      <td>1995-08</td>\n      <td>21.07</td>\n      <td>72.283837</td>\n    </tr>\n    <tr>\n      <th>26</th>\n      <td>1995-08-16</td>\n      <td>8.664333</td>\n      <td>1995-08</td>\n      <td>21.07</td>\n      <td>43.153068</td>\n    </tr>\n    <tr>\n      <th>27</th>\n      <td>1995-08-17</td>\n      <td>1.813250</td>\n      <td>1995-08</td>\n      <td>21.07</td>\n      <td>9.030966</td>\n    </tr>\n    <tr>\n      <th>28</th>\n      <td>1995-08-18</td>\n      <td>1.941667</td>\n      <td>1995-08</td>\n      <td>21.07</td>\n      <td>9.670551</td>\n    </tr>\n    <tr>\n      <th>29</th>\n      <td>1995-08-19</td>\n      <td>1.101833</td>\n      <td>1995-08</td>\n      <td>21.07</td>\n      <td>5.487726</td>\n    </tr>\n    <tr>\n      <th>...</th>\n      <td>...</td>\n      <td>...</td>\n      <td>...</td>\n      <td>...</td>\n      <td>...</td>\n    </tr>\n    <tr>\n      <th>8351</th>\n      <td>2018-04-06</td>\n      <td>110.661057</td>\n      <td>2018-04</td>\n      <td>98.91</td>\n      <td>117.407455</td>\n    </tr>\n    <tr>\n      <th>8352</th>\n      <td>2018-04-07</td>\n      <td>118.986361</td>\n      <td>2018-04</td>\n      <td>98.91</td>\n      <td>126.240306</td>\n    </tr>\n    <tr>\n      <th>8353</th>\n      <td>2018-04-08</td>\n      <td>101.724346</td>\n      <td>2018-04</td>\n      <td>98.91</td>\n      <td>107.925921</td>\n    </tr>\n    <tr>\n      <th>8354</th>\n      <td>2018-04-09</td>\n      <td>106.148379</td>\n      <td>2018-04</td>\n      <td>98.91</td>\n      <td>112.619663</td>\n    </tr>\n    <tr>\n      <th>8355</th>\n      <td>2018-04-10</td>\n      <td>111.919901</td>\n      <td>2018-04</td>\n      <td>98.91</td>\n      <td>118.743043</td>\n    </tr>\n    <tr>\n      <th>8356</th>\n      <td>2018-04-11</td>\n      <td>137.975390</td>\n      <td>2018-04</td>\n      <td>98.91</td>\n      <td>146.386992</td>\n    </tr>\n    <tr>\n      <th>8357</th>\n      <td>2018-04-12</td>\n      <td>113.736735</td>\n      <td>2018-04</td>\n      <td>98.91</td>\n      <td>120.670640</td>\n    </tr>\n    <tr>\n      <th>8358</th>\n      <td>2018-04-13</td>\n      <td>120.853637</td>\n      <td>2018-04</td>\n      <td>98.91</td>\n      <td>128.221420</td>\n    </tr>\n    <tr>\n      <th>8359</th>\n      <td>2018-04-14</td>\n      <td>116.612396</td>\n      <td>2018-04</td>\n      <td>98.91</td>\n      <td>123.721614</td>\n    </tr>\n    <tr>\n      <th>8360</th>\n      <td>2018-04-15</td>\n      <td>102.412351</td>\n      <td>2018-04</td>\n      <td>98.91</td>\n      <td>108.655870</td>\n    </tr>\n    <tr>\n      <th>8361</th>\n      <td>2018-04-16</td>\n      <td>121.545329</td>\n      <td>2018-04</td>\n      <td>98.91</td>\n      <td>128.955280</td>\n    </tr>\n    <tr>\n      <th>8362</th>\n      <td>2018-04-17</td>\n      <td>119.689379</td>\n      <td>2018-04</td>\n      <td>98.91</td>\n      <td>126.986184</td>\n    </tr>\n    <tr>\n      <th>8363</th>\n      <td>2018-04-18</td>\n      <td>128.354577</td>\n      <td>2018-04</td>\n      <td>98.91</td>\n      <td>136.179651</td>\n    </tr>\n    <tr>\n      <th>8364</th>\n      <td>2018-04-19</td>\n      <td>127.107120</td>\n      <td>2018-04</td>\n      <td>98.91</td>\n      <td>134.856144</td>\n    </tr>\n    <tr>\n      <th>8365</th>\n      <td>2018-04-20</td>\n      <td>116.151514</td>\n      <td>2018-04</td>\n      <td>98.91</td>\n      <td>123.232635</td>\n    </tr>\n    <tr>\n      <th>8366</th>\n      <td>2018-04-21</td>\n      <td>78.224235</td>\n      <td>2018-04</td>\n      <td>98.91</td>\n      <td>82.993138</td>\n    </tr>\n    <tr>\n      <th>8367</th>\n      <td>2018-04-22</td>\n      <td>84.278754</td>\n      <td>2018-04</td>\n      <td>98.91</td>\n      <td>89.416768</td>\n    </tr>\n    <tr>\n      <th>8368</th>\n      <td>2018-04-23</td>\n      <td>122.369571</td>\n      <td>2018-04</td>\n      <td>98.91</td>\n      <td>129.829772</td>\n    </tr>\n    <tr>\n      <th>8369</th>\n      <td>2018-04-24</td>\n      <td>134.618456</td>\n      <td>2018-04</td>\n      <td>98.91</td>\n      <td>142.825404</td>\n    </tr>\n    <tr>\n      <th>8370</th>\n      <td>2018-04-25</td>\n      <td>127.890851</td>\n      <td>2018-04</td>\n      <td>98.91</td>\n      <td>135.687654</td>\n    </tr>\n    <tr>\n      <th>8371</th>\n      <td>2018-04-26</td>\n      <td>111.918798</td>\n      <td>2018-04</td>\n      <td>98.91</td>\n      <td>118.741873</td>\n    </tr>\n    <tr>\n      <th>8372</th>\n      <td>2018-04-27</td>\n      <td>102.211038</td>\n      <td>2018-04</td>\n      <td>98.91</td>\n      <td>108.442284</td>\n    </tr>\n    <tr>\n      <th>8373</th>\n      <td>2018-04-28</td>\n      <td>88.842302</td>\n      <td>2018-04</td>\n      <td>98.91</td>\n      <td>94.258530</td>\n    </tr>\n    <tr>\n      <th>8374</th>\n      <td>2018-04-29</td>\n      <td>70.595019</td>\n      <td>2018-04</td>\n      <td>98.91</td>\n      <td>74.898810</td>\n    </tr>\n    <tr>\n      <th>8375</th>\n      <td>2018-04-30</td>\n      <td>94.687618</td>\n      <td>2018-04</td>\n      <td>98.91</td>\n      <td>100.460202</td>\n    </tr>\n    <tr>\n      <th>8376</th>\n      <td>2018-05-01</td>\n      <td>71.666726</td>\n      <td>2018-05</td>\n      <td>99.16</td>\n      <td>75.844153</td>\n    </tr>\n    <tr>\n      <th>8377</th>\n      <td>2018-05-02</td>\n      <td>76.374441</td>\n      <td>2018-05</td>\n      <td>99.16</td>\n      <td>80.826279</td>\n    </tr>\n    <tr>\n      <th>8378</th>\n      <td>2018-05-03</td>\n      <td>71.148348</td>\n      <td>2018-05</td>\n      <td>99.16</td>\n      <td>75.295559</td>\n    </tr>\n    <tr>\n      <th>8379</th>\n      <td>2018-05-04</td>\n      <td>64.710120</td>\n      <td>2018-05</td>\n      <td>99.16</td>\n      <td>68.482049</td>\n    </tr>\n    <tr>\n      <th>8380</th>\n      <td>2018-05-05</td>\n      <td>73.972085</td>\n      <td>2018-05</td>\n      <td>99.16</td>\n      <td>78.283890</td>\n    </tr>\n  </tbody>\n</table>\n<p>8381 rows × 5 columns</p>\n</div>",
      "text/plain": "           Fecha  Precio_Promedio Date_Month    IPC  Precio_Promedio_Ajustado\n0     1995-07-21         4.924333    1995-07  20.93                 24.689897\n1     1995-07-22         1.269500    1995-07  20.93                  6.365090\n2     1995-07-23         0.953083    1995-07  20.93                  4.778622\n3     1995-07-24         4.305917    1995-07  20.93                 21.589245\n4     1995-07-25         1.149167    1995-07  20.93                  5.761756\n5     1995-07-26         1.108625    1995-07  20.93                  5.558486\n6     1995-07-27         0.585958    1995-07  20.93                  2.937911\n7     1995-07-28         0.499792    1995-07  20.93                  2.505883\n8     1995-07-29         0.927667    1995-07  20.93                  4.651187\n9     1995-07-30         0.669458    1995-07  20.93                  3.356567\n10    1995-07-31         0.679458    1995-07  20.93                  3.406706\n11    1995-08-01         1.106917    1995-08  21.07                  5.513044\n12    1995-08-02         1.077500    1995-08  21.07                  5.366533\n13    1995-08-03         1.517917    1995-08  21.07                  7.560046\n14    1995-08-04         1.786042    1995-08  21.07                  8.895454\n15    1995-08-05         2.383792    1995-08  21.07                 11.872572\n16    1995-08-06         2.387583    1995-08  21.07                 11.891457\n17    1995-08-07         3.707208    1995-08  21.07                 18.463903\n18    1995-08-08         6.650000    1995-08  21.07                 33.120598\n19    1995-08-09        13.991958    1995-08  21.07                 69.687523\n20    1995-08-10        20.041667    1995-08  21.07                 99.818344\n21    1995-08-11        21.191667    1995-08  21.07                105.545966\n22    1995-08-12        30.710750    1995-08  21.07                152.956151\n23    1995-08-13        34.327833    1995-08  21.07                170.971183\n24    1995-08-14        33.190250    1995-08  21.07                165.305403\n25    1995-08-15        14.513250    1995-08  21.07                 72.283837\n26    1995-08-16         8.664333    1995-08  21.07                 43.153068\n27    1995-08-17         1.813250    1995-08  21.07                  9.030966\n28    1995-08-18         1.941667    1995-08  21.07                  9.670551\n29    1995-08-19         1.101833    1995-08  21.07                  5.487726\n...          ...              ...        ...    ...                       ...\n8351  2018-04-06       110.661057    2018-04  98.91                117.407455\n8352  2018-04-07       118.986361    2018-04  98.91                126.240306\n8353  2018-04-08       101.724346    2018-04  98.91                107.925921\n8354  2018-04-09       106.148379    2018-04  98.91                112.619663\n8355  2018-04-10       111.919901    2018-04  98.91                118.743043\n8356  2018-04-11       137.975390    2018-04  98.91                146.386992\n8357  2018-04-12       113.736735    2018-04  98.91                120.670640\n8358  2018-04-13       120.853637    2018-04  98.91                128.221420\n8359  2018-04-14       116.612396    2018-04  98.91                123.721614\n8360  2018-04-15       102.412351    2018-04  98.91                108.655870\n8361  2018-04-16       121.545329    2018-04  98.91                128.955280\n8362  2018-04-17       119.689379    2018-04  98.91                126.986184\n8363  2018-04-18       128.354577    2018-04  98.91                136.179651\n8364  2018-04-19       127.107120    2018-04  98.91                134.856144\n8365  2018-04-20       116.151514    2018-04  98.91                123.232635\n8366  2018-04-21        78.224235    2018-04  98.91                 82.993138\n8367  2018-04-22        84.278754    2018-04  98.91                 89.416768\n8368  2018-04-23       122.369571    2018-04  98.91                129.829772\n8369  2018-04-24       134.618456    2018-04  98.91                142.825404\n8370  2018-04-25       127.890851    2018-04  98.91                135.687654\n8371  2018-04-26       111.918798    2018-04  98.91                118.741873\n8372  2018-04-27       102.211038    2018-04  98.91                108.442284\n8373  2018-04-28        88.842302    2018-04  98.91                 94.258530\n8374  2018-04-29        70.595019    2018-04  98.91                 74.898810\n8375  2018-04-30        94.687618    2018-04  98.91                100.460202\n8376  2018-05-01        71.666726    2018-05  99.16                 75.844153\n8377  2018-05-02        76.374441    2018-05  99.16                 80.826279\n8378  2018-05-03        71.148348    2018-05  99.16                 75.295559\n8379  2018-05-04        64.710120    2018-05  99.16                 68.482049\n8380  2018-05-05        73.972085    2018-05  99.16                 78.283890\n\n[8381 rows x 5 columns]"
     },
     "execution_count": 151,
     "metadata": {},
     "output_type": "execute_result"
    }
   ],
   "source": [
    "#Obteniendo las columnas que se requieren con el fin de obtener \n",
    "Precios = "
   ]
  }
 ],
 "metadata": {
  "colab": {
   "include_colab_link": true,
   "name": "Copia de Untitled3.ipynb",
   "provenance": [],
   "version": "0.3.2"
  },
  "kernelspec": {
   "display_name": "Python 3",
   "language": "python",
   "name": "python3"
  },
  "language_info": {
   "codemirror_mode": {
    "name": "ipython",
    "version": 3
   },
   "file_extension": ".py",
   "mimetype": "text/x-python",
   "name": "python",
   "nbconvert_exporter": "python",
   "pygments_lexer": "ipython3",
   "version": "3.7.3-final"
  }
 },
 "nbformat": 4,
 "nbformat_minor": 2
}