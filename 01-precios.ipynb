{
 "cells": [
  {
   "cell_type": "markdown",
   "metadata": {
    "colab": {},
    "colab_type": "code",
    "id": "n3lnWjvI83ix"
   },
   "source": [
    "# Pronóstico adaptativo"
   ]
  },
  {
   "cell_type": "markdown",
   "metadata": {},
   "source": [
    "## Descripción del problema real"
   ]
  },
  {
   "cell_type": "markdown",
   "metadata": {},
   "source": [
    "Los pronósticos de los precios de la electricidad en mercados liberalizados son un insumo fundamental para la toma de decisiones dentro de las organizaciones. Fundamentalmente, los pronosticos de corto plazo son utilizados en decisiones de carácter operativo. En el caso abordado, es necesario contar con los pronósticos para definir la politica de operación de una empresa del sector eléctrico."
   ]
  },
  {
   "cell_type": "markdown",
   "metadata": {},
   "source": [
    "## Descripción del problema en términos de los datos"
   ]
  },
  {
   "cell_type": "markdown",
   "metadata": {},
   "source": [
    "La carpeta `datos/precios/` contiene los precios historicos horarios de la electricidad en la Bolsa de Energía del mercado eléctrico colombiano, publicados por el operador del mercado. Se desean obtener pronósticos para el precio promedio diario para los próximos siete (7) días a la fecha actual."
   ]
  },
  {
   "cell_type": "markdown",
   "metadata": {},
   "source": [
    "## Aproximaciones posibles"
   ]
  },
  {
   "cell_type": "markdown",
   "metadata": {},
   "source": [
    "En este caso, se desea evaluar la capacidad de pronóstico de un ADALINE con aprendizaje en línea."
   ]
  },
  {
   "cell_type": "markdown",
   "metadata": {},
   "source": [
    "## Requerimientos"
   ]
  },
  {
   "cell_type": "markdown",
   "metadata": {},
   "source": [
    "Usted debe:\n",
    "\n",
    "* Procesar los datos históricos para conformar el conjunto de datos. Los archivos de Excel no pueden ser modificados y actualizados directamente por el operador del sistema. Su código debe leer los archivos y crear la serie de precios promedio diarios de la electricidad.\n",
    "\n",
    "\n",
    "* Determinar si el modelo debe pronosticar los precios promedios sin ninguna transformación, o si la inclusión de una transformación (logaritmo natural, raíz cúbica, raíz cuadrada, etc) resulta en un incremento de la precisión del pronóstico.\n",
    "\n",
    "\n",
    "* Generar el pronóstico para los precios de los próximos siete días.\n",
    "\n",
    "\n",
    "* Preparar el código para que el modelo sea entrenado usando el gradiente y el momentum.\n",
    "\n",
    "\n",
    "* Determinar cuál es el número óptimo de retardos (observaciones) que el modelo debe considerar hacia atrás para producir el pronóstico.\n",
    "\n",
    "\n",
    "* Determinar los valores óptimos de la tasa de aprendizaje y el momentum.\n"
   ]
  },
  {
   "cell_type": "markdown",
   "metadata": {},
   "source": [
    "# Angel Racini Meza\n",
    "## C.C 1017248189\n"
   ]
  },
  {
   "cell_type": "markdown",
   "metadata": {},
   "source": [
    "## Importanto Librerias"
   ]
  },
  {
   "cell_type": "code",
   "execution_count": 65,
   "metadata": {},
   "outputs": [],
   "source": [
    "import pandas as pd\n",
    "import numpy as np \n",
    "import os\n",
    "import seaborn as sns\n",
    "from datetime import datetime\n",
    "from sklearn.preprocessing import power_transform\n",
    "from sklearn.preprocessing import MinMaxScaler\n",
    "import warnings\n",
    "import matplotlib.pyplot as plt\n",
    "from sklearn.metrics import mean_squared_error\n",
    "warnings.filterwarnings('ignore')\n",
    "%matplotlib inline"
   ]
  },
  {
   "cell_type": "markdown",
   "metadata": {},
   "source": [
    "## Preprocesando los datos"
   ]
  },
  {
   "cell_type": "code",
   "execution_count": 114,
   "metadata": {},
   "outputs": [
    {
     "data": {
      "text/html": [
       "<div>\n",
       "<style scoped>\n",
       "    .dataframe tbody tr th:only-of-type {\n",
       "        vertical-align: middle;\n",
       "    }\n",
       "\n",
       "    .dataframe tbody tr th {\n",
       "        vertical-align: top;\n",
       "    }\n",
       "\n",
       "    .dataframe thead th {\n",
       "        text-align: right;\n",
       "    }\n",
       "</style>\n",
       "<table border=\"1\" class=\"dataframe\">\n",
       "  <thead>\n",
       "    <tr style=\"text-align: right;\">\n",
       "      <th></th>\n",
       "      <th>Fecha</th>\n",
       "      <th>0</th>\n",
       "      <th>1</th>\n",
       "      <th>2</th>\n",
       "      <th>3</th>\n",
       "      <th>4</th>\n",
       "      <th>5</th>\n",
       "      <th>6</th>\n",
       "      <th>7</th>\n",
       "      <th>8</th>\n",
       "      <th>...</th>\n",
       "      <th>14</th>\n",
       "      <th>15</th>\n",
       "      <th>16</th>\n",
       "      <th>17</th>\n",
       "      <th>18</th>\n",
       "      <th>19</th>\n",
       "      <th>20</th>\n",
       "      <th>21</th>\n",
       "      <th>22</th>\n",
       "      <th>23</th>\n",
       "    </tr>\n",
       "  </thead>\n",
       "  <tbody>\n",
       "    <tr>\n",
       "      <th>0</th>\n",
       "      <td>1995-07-21</td>\n",
       "      <td>1.073</td>\n",
       "      <td>1.000</td>\n",
       "      <td>1.000</td>\n",
       "      <td>1.00</td>\n",
       "      <td>1.00</td>\n",
       "      <td>1.000</td>\n",
       "      <td>5.000</td>\n",
       "      <td>6.000</td>\n",
       "      <td>6.000</td>\n",
       "      <td>...</td>\n",
       "      <td>5.000</td>\n",
       "      <td>1.000</td>\n",
       "      <td>1.000</td>\n",
       "      <td>5.000</td>\n",
       "      <td>12.000</td>\n",
       "      <td>16.670</td>\n",
       "      <td>11.929</td>\n",
       "      <td>5.000</td>\n",
       "      <td>1.000</td>\n",
       "      <td>1.000</td>\n",
       "    </tr>\n",
       "    <tr>\n",
       "      <th>1</th>\n",
       "      <td>1995-07-22</td>\n",
       "      <td>1.073</td>\n",
       "      <td>1.073</td>\n",
       "      <td>1.000</td>\n",
       "      <td>1.00</td>\n",
       "      <td>1.00</td>\n",
       "      <td>1.073</td>\n",
       "      <td>1.303</td>\n",
       "      <td>1.303</td>\n",
       "      <td>1.303</td>\n",
       "      <td>...</td>\n",
       "      <td>1.073</td>\n",
       "      <td>1.000</td>\n",
       "      <td>1.000</td>\n",
       "      <td>1.000</td>\n",
       "      <td>1.303</td>\n",
       "      <td>2.500</td>\n",
       "      <td>2.500</td>\n",
       "      <td>1.303</td>\n",
       "      <td>1.073</td>\n",
       "      <td>1.073</td>\n",
       "    </tr>\n",
       "    <tr>\n",
       "      <th>2</th>\n",
       "      <td>1995-07-23</td>\n",
       "      <td>1.073</td>\n",
       "      <td>1.000</td>\n",
       "      <td>1.000</td>\n",
       "      <td>1.00</td>\n",
       "      <td>1.00</td>\n",
       "      <td>1.000</td>\n",
       "      <td>0.100</td>\n",
       "      <td>1.000</td>\n",
       "      <td>1.000</td>\n",
       "      <td>...</td>\n",
       "      <td>1.000</td>\n",
       "      <td>0.100</td>\n",
       "      <td>0.100</td>\n",
       "      <td>1.000</td>\n",
       "      <td>1.238</td>\n",
       "      <td>1.238</td>\n",
       "      <td>1.238</td>\n",
       "      <td>1.238</td>\n",
       "      <td>1.073</td>\n",
       "      <td>1.000</td>\n",
       "    </tr>\n",
       "    <tr>\n",
       "      <th>3</th>\n",
       "      <td>1995-07-24</td>\n",
       "      <td>1</td>\n",
       "      <td>1.000</td>\n",
       "      <td>0.990</td>\n",
       "      <td>1.00</td>\n",
       "      <td>1.00</td>\n",
       "      <td>1.073</td>\n",
       "      <td>3.000</td>\n",
       "      <td>3.000</td>\n",
       "      <td>3.000</td>\n",
       "      <td>...</td>\n",
       "      <td>1.073</td>\n",
       "      <td>1.073</td>\n",
       "      <td>3.000</td>\n",
       "      <td>2.000</td>\n",
       "      <td>18.630</td>\n",
       "      <td>22.500</td>\n",
       "      <td>9.256</td>\n",
       "      <td>3.000</td>\n",
       "      <td>1.073</td>\n",
       "      <td>1.000</td>\n",
       "    </tr>\n",
       "    <tr>\n",
       "      <th>4</th>\n",
       "      <td>1995-07-25</td>\n",
       "      <td>0.99</td>\n",
       "      <td>0.990</td>\n",
       "      <td>0.989</td>\n",
       "      <td>0.99</td>\n",
       "      <td>0.99</td>\n",
       "      <td>1.073</td>\n",
       "      <td>1.263</td>\n",
       "      <td>1.263</td>\n",
       "      <td>1.263</td>\n",
       "      <td>...</td>\n",
       "      <td>1.073</td>\n",
       "      <td>1.073</td>\n",
       "      <td>1.073</td>\n",
       "      <td>1.073</td>\n",
       "      <td>1.263</td>\n",
       "      <td>1.500</td>\n",
       "      <td>1.263</td>\n",
       "      <td>1.263</td>\n",
       "      <td>1.073</td>\n",
       "      <td>0.990</td>\n",
       "    </tr>\n",
       "  </tbody>\n",
       "</table>\n",
       "<p>5 rows × 25 columns</p>\n",
       "</div>"
      ],
      "text/plain": [
       "        Fecha      0      1      2     3     4      5      6      7      8  \\\n",
       "0  1995-07-21  1.073  1.000  1.000  1.00  1.00  1.000  5.000  6.000  6.000   \n",
       "1  1995-07-22  1.073  1.073  1.000  1.00  1.00  1.073  1.303  1.303  1.303   \n",
       "2  1995-07-23  1.073  1.000  1.000  1.00  1.00  1.000  0.100  1.000  1.000   \n",
       "3  1995-07-24      1  1.000  0.990  1.00  1.00  1.073  3.000  3.000  3.000   \n",
       "4  1995-07-25   0.99  0.990  0.989  0.99  0.99  1.073  1.263  1.263  1.263   \n",
       "\n",
       "   ...     14     15     16     17      18      19      20     21     22  \\\n",
       "0  ...  5.000  1.000  1.000  5.000  12.000  16.670  11.929  5.000  1.000   \n",
       "1  ...  1.073  1.000  1.000  1.000   1.303   2.500   2.500  1.303  1.073   \n",
       "2  ...  1.000  0.100  0.100  1.000   1.238   1.238   1.238  1.238  1.073   \n",
       "3  ...  1.073  1.073  3.000  2.000  18.630  22.500   9.256  3.000  1.073   \n",
       "4  ...  1.073  1.073  1.073  1.073   1.263   1.500   1.263  1.263  1.073   \n",
       "\n",
       "      23  \n",
       "0  1.000  \n",
       "1  1.073  \n",
       "2  1.000  \n",
       "3  1.000  \n",
       "4  0.990  \n",
       "\n",
       "[5 rows x 25 columns]"
      ]
     },
     "execution_count": 114,
     "metadata": {},
     "output_type": "execute_result"
    }
   ],
   "source": [
    "#Extrayendo los archivos de la carpeta precios\n",
    "path  = r'datos\\precios'\n",
    "datos = os.listdir(path)\n",
    "Consolidado = pd.DataFrame(columns = ['Fecha', \"0\", \"1\", \"2\", \"3\", \"4\", \"5\", \"6\", \"7\", \"8\", \"9\", \"10\", \"11\", \"12\",                                          \"13\", \"14\",\"15\", \"16\", \"17\", \"18\", \"19\", \"20\", \"21\", \"22\", \"23\"])\n",
    "\n",
    "for archivo in datos:\n",
    "    df = pd.read_excel(path+\"\\\\\"+archivo)\n",
    "    df  = df.iloc[:,0:25]\n",
    "    df = df.dropna()       \n",
    "    df.rename(columns=df.iloc[0], inplace = True)\n",
    "    df = df.drop(df.index[0])\n",
    "    df.reset_index(drop=True, inplace=True)\n",
    "    df.columns = ['Fecha', \"0\", \"1\", \"2\", \"3\", \"4\", \"5\", \"6\", \"7\", \"8\", \"9\", \"10\", \"11\", \"12\", \"13\", \"14\",                             \"15\", \"16\", \"17\", \"18\", \"19\", \"20\", \"21\", \"22\", \"23\"]\n",
    "    Consolidado = pd.concat([Consolidado, df])\n",
    "\n",
    "#IMPRIMIENDO LOS PRIMEROS 5 REGISTROS DEL ARCHIVO CONSOLIDADO\n",
    "Consolidado.head(5)"
   ]
  },
  {
   "cell_type": "markdown",
   "metadata": {},
   "source": [
    "**Ajustando los precios historicos al valor actual del peso dado por el IPC.**"
   ]
  },
  {
   "cell_type": "code",
   "execution_count": 115,
   "metadata": {},
   "outputs": [
    {
     "data": {
      "text/html": [
       "<div>\n",
       "<style scoped>\n",
       "    .dataframe tbody tr th:only-of-type {\n",
       "        vertical-align: middle;\n",
       "    }\n",
       "\n",
       "    .dataframe tbody tr th {\n",
       "        vertical-align: top;\n",
       "    }\n",
       "\n",
       "    .dataframe thead th {\n",
       "        text-align: right;\n",
       "    }\n",
       "</style>\n",
       "<table border=\"1\" class=\"dataframe\">\n",
       "  <thead>\n",
       "    <tr style=\"text-align: right;\">\n",
       "      <th></th>\n",
       "      <th>Fecha</th>\n",
       "      <th>Precio_Promedio</th>\n",
       "      <th>Date_Month</th>\n",
       "      <th>IPC</th>\n",
       "      <th>Precio_Promedio_Ajustado</th>\n",
       "    </tr>\n",
       "  </thead>\n",
       "  <tbody>\n",
       "    <tr>\n",
       "      <th>0</th>\n",
       "      <td>1995-07-21</td>\n",
       "      <td>4.924333</td>\n",
       "      <td>1995-07</td>\n",
       "      <td>20.93</td>\n",
       "      <td>24.689897</td>\n",
       "    </tr>\n",
       "    <tr>\n",
       "      <th>1</th>\n",
       "      <td>1995-07-22</td>\n",
       "      <td>1.269500</td>\n",
       "      <td>1995-07</td>\n",
       "      <td>20.93</td>\n",
       "      <td>6.365090</td>\n",
       "    </tr>\n",
       "    <tr>\n",
       "      <th>2</th>\n",
       "      <td>1995-07-23</td>\n",
       "      <td>0.953083</td>\n",
       "      <td>1995-07</td>\n",
       "      <td>20.93</td>\n",
       "      <td>4.778622</td>\n",
       "    </tr>\n",
       "    <tr>\n",
       "      <th>3</th>\n",
       "      <td>1995-07-24</td>\n",
       "      <td>4.305917</td>\n",
       "      <td>1995-07</td>\n",
       "      <td>20.93</td>\n",
       "      <td>21.589245</td>\n",
       "    </tr>\n",
       "    <tr>\n",
       "      <th>4</th>\n",
       "      <td>1995-07-25</td>\n",
       "      <td>1.149167</td>\n",
       "      <td>1995-07</td>\n",
       "      <td>20.93</td>\n",
       "      <td>5.761756</td>\n",
       "    </tr>\n",
       "  </tbody>\n",
       "</table>\n",
       "</div>"
      ],
      "text/plain": [
       "        Fecha  Precio_Promedio Date_Month    IPC  Precio_Promedio_Ajustado\n",
       "0  1995-07-21         4.924333    1995-07  20.93                 24.689897\n",
       "1  1995-07-22         1.269500    1995-07  20.93                  6.365090\n",
       "2  1995-07-23         0.953083    1995-07  20.93                  4.778622\n",
       "3  1995-07-24         4.305917    1995-07  20.93                 21.589245\n",
       "4  1995-07-25         1.149167    1995-07  20.93                  5.761756"
      ]
     },
     "execution_count": 115,
     "metadata": {},
     "output_type": "execute_result"
    }
   ],
   "source": [
    "#Obteniendo el promedio para cada dia\n",
    "Precios_Promedio = Consolidado.set_index('Fecha')\n",
    "Precios_Promedio['Precio_Promedio'] = Precios_Promedio.sum(axis = 1) / 24.0\n",
    "Precios_Promedio = Precios_Promedio.loc[:,'Precio_Promedio']\n",
    "Precios_Promedio = Precios_Promedio.reset_index()\n",
    "\n",
    "#Leyendolos datos del banco de la republica\n",
    "IPC = pd.read_excel(r\"C:\\Users\\ANGEL\\Desktop\\Trabajo Redes Neuronales\\evaluacion-arracinim\\1.2.5.IPC_Serie_variaciones.xlsx\", header = 12)\n",
    "IPC = IPC.iloc[:,0:2] \n",
    "IPC = IPC.iloc[:-6] #No nos interesa las ultima 6 columnas correspondientes a los creditos\n",
    "IPC.columns = ['Date_Month', 'IPC']\n",
    "\n",
    "#Convierto las fechas a formato YYYY-MM\n",
    "\n",
    "IPC['Date_Month'] = IPC['Date_Month'].astype(str)\n",
    "IPC['Date_Month'] = IPC['Date_Month'].apply(lambda x: x[:4] + '-' + x[4:])\n",
    "IPC['Date_Month'] = pd.to_datetime(IPC['Date_Month']).dt.to_period('M')\n",
    "Precios_Promedio['Date_Month'] = pd.to_datetime(Precios_Promedio['Fecha']).dt.to_period('M')\n",
    "\n",
    "\n",
    "#Haciendo un merge para calcular los nuevos precios\n",
    "Precios = pd.merge(Precios_Promedio, IPC[[\"Date_Month\", \"IPC\"]], on=\"Date_Month\", how=\"left\")\n",
    "\n",
    "#Recalculando el valor del peso al valor actual segun el IPC para cada fila\n",
    "IPC_ACTUAL = IPC.tail(1).iloc[0,1]\n",
    "Precios['Precio_Promedio_Ajustado'] =  Precios['Precio_Promedio'] * (IPC_ACTUAL / Precios['IPC'])\n",
    "Precios.head(5)"
   ]
  },
  {
   "cell_type": "code",
   "execution_count": 116,
   "metadata": {},
   "outputs": [
    {
     "data": {
      "text/html": [
       "<div>\n",
       "<style scoped>\n",
       "    .dataframe tbody tr th:only-of-type {\n",
       "        vertical-align: middle;\n",
       "    }\n",
       "\n",
       "    .dataframe tbody tr th {\n",
       "        vertical-align: top;\n",
       "    }\n",
       "\n",
       "    .dataframe thead th {\n",
       "        text-align: right;\n",
       "    }\n",
       "</style>\n",
       "<table border=\"1\" class=\"dataframe\">\n",
       "  <thead>\n",
       "    <tr style=\"text-align: right;\">\n",
       "      <th></th>\n",
       "      <th>Año</th>\n",
       "      <th>Mes</th>\n",
       "      <th>Dia</th>\n",
       "      <th>Precio_Promedio_Ajustado</th>\n",
       "    </tr>\n",
       "  </thead>\n",
       "  <tbody>\n",
       "    <tr>\n",
       "      <th>0</th>\n",
       "      <td>1995</td>\n",
       "      <td>7</td>\n",
       "      <td>21</td>\n",
       "      <td>24.689897</td>\n",
       "    </tr>\n",
       "    <tr>\n",
       "      <th>1</th>\n",
       "      <td>1995</td>\n",
       "      <td>7</td>\n",
       "      <td>22</td>\n",
       "      <td>6.365090</td>\n",
       "    </tr>\n",
       "    <tr>\n",
       "      <th>2</th>\n",
       "      <td>1995</td>\n",
       "      <td>7</td>\n",
       "      <td>23</td>\n",
       "      <td>4.778622</td>\n",
       "    </tr>\n",
       "    <tr>\n",
       "      <th>3</th>\n",
       "      <td>1995</td>\n",
       "      <td>7</td>\n",
       "      <td>24</td>\n",
       "      <td>21.589245</td>\n",
       "    </tr>\n",
       "    <tr>\n",
       "      <th>4</th>\n",
       "      <td>1995</td>\n",
       "      <td>7</td>\n",
       "      <td>25</td>\n",
       "      <td>5.761756</td>\n",
       "    </tr>\n",
       "  </tbody>\n",
       "</table>\n",
       "</div>"
      ],
      "text/plain": [
       "    Año  Mes  Dia  Precio_Promedio_Ajustado\n",
       "0  1995    7   21                 24.689897\n",
       "1  1995    7   22                  6.365090\n",
       "2  1995    7   23                  4.778622\n",
       "3  1995    7   24                 21.589245\n",
       "4  1995    7   25                  5.761756"
      ]
     },
     "execution_count": 116,
     "metadata": {},
     "output_type": "execute_result"
    }
   ],
   "source": [
    "#Conviertiendo las fechas a formato datetime\n",
    "Precios = Precios.loc[:,['Fecha', 'Precio_Promedio_Ajustado']]\n",
    "Precios_Full_Date = Precios.loc[:,['Fecha', 'Precio_Promedio_Ajustado']]\n",
    "Precios_Full_Date['Fecha'] = pd.to_datetime(Precios_Full_Date['Fecha'], format='%Y-%m-%d')\n",
    "\n",
    "#Diviendo las fechas en Año, mes y dia. (Expansión de fechas)\n",
    "Precios['Fecha'] = pd.to_datetime(Precios['Fecha'], format='%Y-%m-%d')\n",
    "Precios['Año'] = Precios['Fecha'].dt.year\n",
    "Precios['Mes'] = Precios['Fecha'].dt.month\n",
    "Precios['Dia'] = Precios['Fecha'].dt.day\n",
    "Precios = Precios.loc[:,['Año', \"Mes\", \"Dia\", 'Precio_Promedio_Ajustado']]\n",
    "Precios.head()"
   ]
  },
  {
   "cell_type": "markdown",
   "metadata": {},
   "source": [
    "## Transformando los datos"
   ]
  },
  {
   "cell_type": "code",
   "execution_count": 117,
   "metadata": {},
   "outputs": [
    {
     "data": {
      "text/plain": [
       "<seaborn.axisgrid.FacetGrid at 0x2b49b40a320>"
      ]
     },
     "execution_count": 117,
     "metadata": {},
     "output_type": "execute_result"
    },
    {
     "data": {
      "text/plain": [
       "<Figure size 1440x576 with 0 Axes>"
      ]
     },
     "metadata": {},
     "output_type": "display_data"
    },
    {
     "data": {
      "image/png": "[encoded data removed]",
      "text/plain": [
       "<Figure size 360x360 with 1 Axes>"
      ]
     },
     "metadata": {
      "needs_background": "light"
     },
     "output_type": "display_data"
    }
   ],
   "source": [
    "#Observando el comportamiento del precio en el tiempo\n",
    "plt.figure(figsize=(20, 8))\n",
    "sns.relplot(x=\"Fecha\", y=\"Precio_Promedio_Ajustado\",\n",
    "            kind=\"line\", data= Precios_Full_Date)"
   ]
  },
  {
   "cell_type": "markdown",
   "metadata": {},
   "source": [
    "Podemos observar en la grafica que hay datos muy desfazados sobretodo entre los años 1996-2000 y los años 2015-2017\n",
    "esto anterior puede significar valores atípicos o valores no atipicos que requerirá una transformacion a los datos de salida (target), además se puede notar que hay mucho ruido lo que indica problemas de heterosedasticidad."
   ]
  },
  {
   "cell_type": "code",
   "execution_count": 118,
   "metadata": {},
   "outputs": [
    {
     "data": {
      "text/plain": [
       "<matplotlib.axes._subplots.AxesSubplot at 0x2b497014978>"
      ]
     },
     "execution_count": 118,
     "metadata": {},
     "output_type": "execute_result"
    },
    {
     "data": {
      "image/png": "[encoded data removed]",
      "text/plain": [
       "<Figure size 432x288 with 1 Axes>"
      ]
     },
     "metadata": {
      "needs_background": "light"
     },
     "output_type": "display_data"
    }
   ],
   "source": [
    "#Verificando si los datos cumplen en supuesto de normalidad por observación grafica. \n",
    "sns.distplot(Precios_Full_Date.loc[:,'Precio_Promedio_Ajustado'])"
   ]
  },
  {
   "cell_type": "code",
   "execution_count": 12,
   "metadata": {},
   "outputs": [],
   "source": [
    "#Precios['Precio_Promedio_Ajustado'] = np.log(Precios['Precio_Promedio_Ajustado'])"
   ]
  },
  {
   "cell_type": "markdown",
   "metadata": {},
   "source": [
    "## Implementando el ADALINE\n"
   ]
  },
  {
   "cell_type": "markdown",
   "metadata": {},
   "source": [
    "Se implementa un ADALINE para regresion con GD (Gradiente descendente) y momentum  "
   ]
  },
  {
   "cell_type": "code",
   "execution_count": 120,
   "metadata": {},
   "outputs": [],
   "source": [
    "class Adaline():\n",
    "\n",
    "    def __init__(self,\n",
    "                 learning_rate=0.001, # tasa de aprendizaje\n",
    "                 momentum=0.9,      # Momentum               \n",
    "                 max_epochs=100,      # número máximo de iteraciones sobre el set de datos\n",
    "                 shuffle=False,       # mezcla patrones para aprendizaje online\n",
    "                 random_state=None,   \n",
    "                 warm_start=False):   \n",
    "\n",
    "        self.momentum = momentum\n",
    "        self.learning_rate = learning_rate\n",
    "        self.max_epochs = max_epochs\n",
    "        self.shuffle = shuffle\n",
    "        self.random_state = random_state\n",
    "        self.warm_start = warm_start\n",
    "        self.coef_ = None\n",
    "        self.intercept_ = None\n",
    "\n",
    "    def fit(self, X, y):\n",
    "\n",
    "        if not isinstance(X, np.ndarray):\n",
    "            X = np.array(X)\n",
    "        if not isinstance(y, np.ndarray):\n",
    "            d = np.array(y)\n",
    "        else:\n",
    "            d = y.copy()\n",
    "\n",
    "        if self.random_state is not None:\n",
    "            np.random.RandomState(self.random_state)\n",
    "\n",
    "        if self.coef_ is None or self.warm_start is False:\n",
    "            self.coef_ = np.random.uniform(-1, 1, X.shape[1])\n",
    "\n",
    "        if self.intercept_ is None  or self.warm_start is False:\n",
    "            self.intercept_ = np.random.uniform(-1, 1, 1)\n",
    "\n",
    "        errors2 = []\n",
    "        forecasts = []\n",
    "\n",
    "        for epoch in range(self.max_epochs):\n",
    "\n",
    "            if self.shuffle is True:\n",
    "                n = list(range(X.shape[0]))\n",
    "                np.random.shuffle(n) \n",
    "                X = X[n,:] \n",
    "                d = d[n]\n",
    "\n",
    "            for i in range(X.shape[0]):\n",
    "                u = np.dot(X[i,:], self.coef_) + self.intercept_ \n",
    "                e = (d[i] - u)[0]\n",
    "                self.coef_ += 2 * self.learning_rate * e * X[i,:] + self.coef_ * self.momentum\n",
    "                self.intercept_ += 2 * self.learning_rate * e + self.intercept_*self.momentum\n",
    "                errors2.append(e**2)\n",
    "                forecasts.append(u)\n",
    "\n",
    "    def predict(self, X):\n",
    "        if not isinstance(X, np.ndarray):\n",
    "            X = np.array(X)\n",
    "        u = np.dot(X, self.coef_) + self.intercept_\n",
    "        return u"
   ]
  },
  {
   "cell_type": "markdown",
   "metadata": {},
   "source": [
    "### ENTRENANDO EL MODELO "
   ]
  },
  {
   "cell_type": "markdown",
   "metadata": {},
   "source": [
    "En este caso tomaremos para entrenamiento todos los datos, exceptuando los ultimos 7 dias, con los cuales se hará el pronostico."
   ]
  },
  {
   "cell_type": "markdown",
   "metadata": {},
   "source": [
    "**Hayando la cantidad de retardos, el momentum y learning rate optimos**"
   ]
  },
  {
   "cell_type": "code",
   "execution_count": 197,
   "metadata": {},
   "outputs": [],
   "source": [
    "train = Precios.head(len(Precios)-7)\n",
    "test = Precios.tail(7)\n",
    "test = test.reset_index(drop=True)"
   ]
  },
  {
   "cell_type": "markdown",
   "metadata": {},
   "source": [
    "Escalamos la entrada"
   ]
  },
  {
   "cell_type": "code",
   "execution_count": 198,
   "metadata": {},
   "outputs": [],
   "source": [
    "x_train = train.iloc[:,:3]\n",
    "y_train = train.iloc[:,-1]\n",
    "x_test = test.iloc[:,:3] \n",
    "y_test = test.iloc[:,-1]"
   ]
  },
  {
   "cell_type": "code",
   "execution_count": 199,
   "metadata": {},
   "outputs": [],
   "source": [
    "scaler = MinMaxScaler()\n",
    "x_train = scaler.fit_transform(x_train)\n",
    "x_test = scaler.fit_transform(x_test)"
   ]
  },
  {
   "cell_type": "markdown",
   "metadata": {},
   "source": [
    "Buscando el mejor modelo con respecto a los hiperparametros"
   ]
  },
  {
   "cell_type": "code",
   "execution_count": 200,
   "metadata": {},
   "outputs": [],
   "source": [
    "momentums = np.arange(0.00000, 0.0001,0.000025)\n",
    "learning_rates = np.arange(0.005, 0.1, 0.005)\n",
    "dic_list = []\n",
    "\n",
    "for i in momentums:\n",
    "    for j in learning_rates:\n",
    "        m = Adaline(\n",
    "        learning_rate=j, \n",
    "        momentum = i,  \n",
    "        shuffle=False,       \n",
    "        random_state=201,\n",
    "        max_epochs=1,\n",
    "        warm_start=False)    \n",
    "        m.fit(x_test,y_test)\n",
    "        mse = mean_squared_error(y_test, m.predict(x_test))\n",
    "        dic_list.append({\"momentum\": j, \"learning_rate\":i, \"MSE\":mse})\n",
    "            \n",
    "    \n",
    "scores = pd.DataFrame(data = dic_list)"
   ]
  },
  {
   "cell_type": "markdown",
   "metadata": {},
   "source": [
    "Seleccionamos el **Learning rate** y el **momentum** que disminuye el error para un **retardo** de 7."
   ]
  },
  {
   "cell_type": "code",
   "execution_count": 201,
   "metadata": {},
   "outputs": [
    {
     "data": {
      "text/html": [
       "<div>\n",
       "<style scoped>\n",
       "    .dataframe tbody tr th:only-of-type {\n",
       "        vertical-align: middle;\n",
       "    }\n",
       "\n",
       "    .dataframe tbody tr th {\n",
       "        vertical-align: top;\n",
       "    }\n",
       "\n",
       "    .dataframe thead th {\n",
       "        text-align: right;\n",
       "    }\n",
       "</style>\n",
       "<table border=\"1\" class=\"dataframe\">\n",
       "  <thead>\n",
       "    <tr style=\"text-align: right;\">\n",
       "      <th></th>\n",
       "      <th>MSE</th>\n",
       "      <th>learning_rate</th>\n",
       "      <th>momentum</th>\n",
       "    </tr>\n",
       "  </thead>\n",
       "  <tbody>\n",
       "    <tr>\n",
       "      <th>37</th>\n",
       "      <td>114.214386</td>\n",
       "      <td>0.000025</td>\n",
       "      <td>0.095</td>\n",
       "    </tr>\n",
       "  </tbody>\n",
       "</table>\n",
       "</div>"
      ],
      "text/plain": [
       "           MSE  learning_rate  momentum\n",
       "37  114.214386       0.000025     0.095"
      ]
     },
     "execution_count": 201,
     "metadata": {},
     "output_type": "execute_result"
    }
   ],
   "source": [
    "scores = scores[scores['MSE'] == scores['MSE'].min()]\n",
    "scores"
   ]
  },
  {
   "cell_type": "markdown",
   "metadata": {},
   "source": [
    "En este caso el mejor modelo con el MSE mas bajo es aquel con un **learning_rate** de 0.000025 y un **momentum** de 0.095"
   ]
  },
  {
   "cell_type": "markdown",
   "metadata": {},
   "source": [
    "**Implementando el modelo y generando el pronostico para 7 dias**"
   ]
  },
  {
   "cell_type": "code",
   "execution_count": 202,
   "metadata": {},
   "outputs": [],
   "source": [
    "m = Adaline(\n",
    "learning_rate=0.000025, \n",
    "momentum = 0.095,  \n",
    "shuffle=False,       \n",
    "random_state=201,\n",
    "max_epochs=1,\n",
    "warm_start=False)"
   ]
  },
  {
   "cell_type": "code",
   "execution_count": 227,
   "metadata": {},
   "outputs": [],
   "source": [
    "m.fit(x_test,y_test)\n",
    "y_pred = (m.predict(x_test)) "
   ]
  }
 ],
 "metadata": {
  "colab": {
   "include_colab_link": true,
   "name": "Copia de Untitled3.ipynb",
   "provenance": [],
   "version": "0.3.2"
  },
  "kernelspec": {
   "display_name": "Python 3",
   "language": "python",
   "name": "python3"
  },
  "language_info": {
   "codemirror_mode": {
    "name": "ipython",
    "version": 3
   },
   "file_extension": ".py",
   "mimetype": "text/x-python",
   "name": "python",
   "nbconvert_exporter": "python",
   "pygments_lexer": "ipython3",
   "version": "3.7.3"
  }
 },
 "nbformat": 4,
 "nbformat_minor": 2
}
