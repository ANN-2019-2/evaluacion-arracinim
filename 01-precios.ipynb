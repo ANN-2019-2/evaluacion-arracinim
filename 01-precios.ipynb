{
 "cells": [
  {
   "cell_type": "markdown",
   "execution_count": null,
   "metadata": {
    "colab": {},
    "colab_type": "code",
    "id": "n3lnWjvI83ix"
   },
   "outputs": [],
   "source": [
    "# Pronóstico adaptativo"
   ]
  },
  {
   "cell_type": "markdown",
   "execution_count": null,
   "metadata": {},
   "outputs": [],
   "source": [
    "## Descripción del problema real"
   ]
  },
  {
   "cell_type": "markdown",
   "execution_count": null,
   "metadata": {},
   "outputs": [],
   "source": [
    "Los pronósticos de los precios de la electricidad en mercados liberalizados son un insumo fundamental para la toma de decisiones dentro de las organizaciones. Fundamentalmente, los pronosticos de corto plazo son utilizados en decisiones de carácter operativo. En el caso abordado, es necesario contar con los pronósticos para definir la politica de operación de una empresa del sector eléctrico."
   ]
  },
  {
   "cell_type": "markdown",
   "execution_count": null,
   "metadata": {},
   "outputs": [],
   "source": [
    "## Descripción del problema en términos de los datos"
   ]
  },
  {
   "cell_type": "markdown",
   "execution_count": null,
   "metadata": {},
   "outputs": [],
   "source": [
    "La carpeta `datos/precios/` contiene los precios historicos horarios de la electricidad en la Bolsa de Energía del mercado eléctrico colombiano, publicados por el operador del mercado. Se desean obtener pronósticos para el precio promedio diario para los próximos siete (7) días a la fecha actual."
   ]
  },
  {
   "cell_type": "markdown",
   "execution_count": null,
   "metadata": {},
   "outputs": [],
   "source": [
    "## Aproximaciones posibles"
   ]
  },
  {
   "cell_type": "markdown",
   "execution_count": null,
   "metadata": {},
   "outputs": [],
   "source": [
    "En este caso, se desea evaluar la capacidad de pronóstico de un ADALINE con aprendizaje en línea."
   ]
  },
  {
   "cell_type": "markdown",
   "execution_count": null,
   "metadata": {},
   "outputs": [],
   "source": [
    "## Requerimientos"
   ]
  },
  {
   "cell_type": "markdown",
   "execution_count": null,
   "metadata": {},
   "outputs": [],
   "source": [
    "Usted debe:\n",
    "\n",
    "* Procesar los datos históricos para conformar el conjunto de datos. Los archivos de Excel no pueden ser modificados y actualizados directamente por el operador del sistema. Su código debe leer los archivos y crear la serie de precios promedio diarios de la electricidad.\n",
    "\n",
    "\n",
    "* Determinar si el modelo debe pronosticar los precios promedios sin ninguna transformación, o si la inclusión de una transformación (logaritmo natural, raíz cúbica, raíz cuadrada, etc) resulta en un incremento de la precisión del pronóstico.\n",
    "\n",
    "\n",
    "* Generar el pronóstico para los precios de los próximos siete días.\n",
    "\n",
    "\n",
    "* Preparar el código para que el modelo sea entrenado usando el gradiente y el momentum.\n",
    "\n",
    "\n",
    "* Determinar cuál es el número óptimo de retardos (observaciones) que el modelo debe considerar hacia atrás para producir el pronóstico.\n",
    "\n",
    "\n",
    "* Determinar los valores óptimos de la tasa de aprendizaje y el momentum.\n"
   ]
  },
  {
   "cell_type": "markdown",
   "execution_count": null,
   "metadata": {},
   "outputs": [],
   "source": [
    "# Angel Racini Meza\n",
    "## C.C 1017248189\n"
   ]
  },
  {
   "cell_type": "markdown",
   "execution_count": null,
   "metadata": {},
   "outputs": [],
   "source": [
    "## Importanto Librerias"
   ]
  },
  {
   "cell_type": "code",
   "execution_count": 128,
   "metadata": {},
   "outputs": [],
   "source": [
    "import pandas as pd\n",
    "import numpy as np \n",
    "import os\n",
    "from pathlib import Path\n",
    "from matplotlib import pyplot as plt\n",
    "%matplotlib inline"
   ]
  },
  {
   "cell_type": "markdown",
   "execution_count": null,
   "metadata": {},
   "outputs": [],
   "source": [
    "## Preprocesando los datos"
   ]
  },
  {
   "cell_type": "code",
   "execution_count": 123,
   "metadata": {},
   "outputs": [],
   "source": [
    "#Extrayendo los archivos de la carpeta precios\n",
    "path  = r'C:\\Users\\ANGEL\\Desktop\\Trabajo Redes Neuronales\\evaluacion-arracinim\\datos\\precios'\n",
    "datos = os.listdir(path)\n",
    "\n",
    "Consolidado = pd.read_excel(path+\"\\\\\"+Datos[0])\n",
    "Consolidado = Consolidado.iloc[:,0:25]\n",
    "Consolidado = Consolidado.dropna()\n",
    "Consolidado.rename(columns=Consolidado.iloc[0], inplace = True)\n",
    "Consolidado = Consolidado.drop(Consolidado.index[0])\n",
    "Consolidado.reset_index()\n",
    "\n",
    "file_number = 0\n",
    "\n",
    "for archivo in datos:\n",
    "    if file_number == 0:\n",
    "        file_number = file_number + 1\n",
    "        pass\n",
    "    else:\n",
    "        df_aux = pd.read_excel(path+\"\\\\\"+archivo)\n",
    "        df_aux = df_aux.iloc[:,0:25]\n",
    "        df_aux = df_aux.dropna()\n",
    "        df_aux.rename(columns=df_aux.iloc[0], inplace = True)\n",
    "        df_aux = df_aux.drop(Consolidado.index[0])\n",
    "        Consolidado = pd.concat([Consolidado,df_aux])"
   ]
  },
  {
   "cell_type": "code",
   "execution_count": 124,
   "metadata": {},
   "outputs": [],
   "source": [
    "#Obteniendo el promedio para cada dia\n",
    "\n",
    "Precios_Promedio = Consolidado.set_index('Fecha')\n",
    "Precios_Promedio = Precios_Promedio.sum(axis = 1) / 24\n"
   ]
  },
  {
   "cell_type": "code",
   "execution_count": 130,
   "metadata": {},
   "outputs": [
    {
     "data": {
      "text/plain": "Fecha\n1995-07-21      4.924333\n1995-07-22      1.269500\n1995-07-23      0.953083\n1995-07-24      4.305917\n1995-07-25      1.149167\n1995-07-26      1.108625\n1995-07-27      0.585958\n1995-07-28      0.499792\n1995-07-29      0.927667\n1995-07-30      0.669458\n1995-07-31      0.679458\n1995-08-01      1.106917\n1995-08-02      1.077500\n1995-08-03      1.517917\n1995-08-04      1.786042\n1995-08-05      2.383792\n1995-08-06      2.387583\n1995-08-07      3.707208\n1995-08-08      6.650000\n1995-08-09     13.991958\n1995-08-10     20.041667\n1995-08-11     21.191667\n1995-08-12     30.710750\n1995-08-13     34.327833\n1995-08-14     33.190250\n1995-08-15     14.513250\n1995-08-16      8.664333\n1995-08-17      1.813250\n1995-08-18      1.941667\n1995-08-19      1.101833\n                 ...    \n2018-04-06    106.700173\n2018-04-07    114.226014\n2018-04-08     97.726207\n2018-04-09    103.583952\n2018-04-10    107.897197\n2018-04-11    133.977405\n2018-04-12    110.192975\n2018-04-13    116.894492\n2018-04-14    111.944932\n2018-04-15     98.145135\n2018-04-16    118.164968\n2018-04-17    115.384769\n2018-04-18    125.129664\n2018-04-19    121.684254\n2018-04-20    113.082701\n2018-04-21     75.180864\n2018-04-22     81.229466\n2018-04-23    118.621533\n2018-04-24    129.436089\n2018-04-25    124.619357\n2018-04-26    108.887459\n2018-04-27     99.224809\n2018-04-28     85.925262\n2018-04-29     67.677824\n2018-04-30     91.869036\n2018-05-01     68.990508\n2018-05-02     73.735574\n2018-05-03     68.493729\n2018-05-04     62.145809\n2018-05-05     70.899463\nLength: 8381, dtype: float64"
     },
     "execution_count": 130,
     "metadata": {},
     "output_type": "execute_result"
    }
   ],
   "source": [
    "Precios_Promedio"
   ]
  }
 ],
 "metadata": {
  "colab": {
   "include_colab_link": true,
   "name": "Copia de Untitled3.ipynb",
   "provenance": [],
   "version": "0.3.2"
  },
  "kernelspec": {
   "display_name": "Python 3",
   "language": "python",
   "name": "python3"
  },
  "language_info": {
   "codemirror_mode": {
    "name": "ipython",
    "version": 3
   },
   "file_extension": ".py",
   "mimetype": "text/x-python",
   "name": "python",
   "nbconvert_exporter": "python",
   "pygments_lexer": "ipython3",
   "version": "3.7.3-final"
  }
 },
 "nbformat": 4,
 "nbformat_minor": 2
}