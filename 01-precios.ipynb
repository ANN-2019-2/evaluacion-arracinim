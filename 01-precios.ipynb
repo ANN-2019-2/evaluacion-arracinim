{
 "cells": [
  {
   "cell_type": "markdown",
   "execution_count": null,
   "metadata": {
    "colab": {},
    "colab_type": "code",
    "id": "n3lnWjvI83ix"
   },
   "outputs": [],
   "source": [
    "# Pronóstico adaptativo"
   ]
  },
  {
   "cell_type": "markdown",
   "execution_count": null,
   "metadata": {},
   "outputs": [],
   "source": [
    "## Descripción del problema real"
   ]
  },
  {
   "cell_type": "markdown",
   "execution_count": null,
   "metadata": {},
   "outputs": [],
   "source": [
    "Los pronósticos de los precios de la electricidad en mercados liberalizados son un insumo fundamental para la toma de decisiones dentro de las organizaciones. Fundamentalmente, los pronosticos de corto plazo son utilizados en decisiones de carácter operativo. En el caso abordado, es necesario contar con los pronósticos para definir la politica de operación de una empresa del sector eléctrico."
   ]
  },
  {
   "cell_type": "markdown",
   "execution_count": null,
   "metadata": {},
   "outputs": [],
   "source": [
    "## Descripción del problema en términos de los datos"
   ]
  },
  {
   "cell_type": "markdown",
   "execution_count": null,
   "metadata": {},
   "outputs": [],
   "source": [
    "La carpeta `datos/precios/` contiene los precios historicos horarios de la electricidad en la Bolsa de Energía del mercado eléctrico colombiano, publicados por el operador del mercado. Se desean obtener pronósticos para el precio promedio diario para los próximos siete (7) días a la fecha actual."
   ]
  },
  {
   "cell_type": "markdown",
   "execution_count": null,
   "metadata": {},
   "outputs": [],
   "source": [
    "## Aproximaciones posibles"
   ]
  },
  {
   "cell_type": "markdown",
   "execution_count": null,
   "metadata": {},
   "outputs": [],
   "source": [
    "En este caso, se desea evaluar la capacidad de pronóstico de un ADALINE con aprendizaje en línea."
   ]
  },
  {
   "cell_type": "markdown",
   "execution_count": null,
   "metadata": {},
   "outputs": [],
   "source": [
    "## Requerimientos"
   ]
  },
  {
   "cell_type": "markdown",
   "execution_count": null,
   "metadata": {},
   "outputs": [],
   "source": [
    "Usted debe:\n",
    "\n",
    "* Procesar los datos históricos para conformar el conjunto de datos. Los archivos de Excel no pueden ser modificados y actualizados directamente por el operador del sistema. Su código debe leer los archivos y crear la serie de precios promedio diarios de la electricidad.\n",
    "\n",
    "\n",
    "* Determinar si el modelo debe pronosticar los precios promedios sin ninguna transformación, o si la inclusión de una transformación (logaritmo natural, raíz cúbica, raíz cuadrada, etc) resulta en un incremento de la precisión del pronóstico.\n",
    "\n",
    "\n",
    "* Generar el pronóstico para los precios de los próximos siete días.\n",
    "\n",
    "\n",
    "* Preparar el código para que el modelo sea entrenado usando el gradiente y el momentum.\n",
    "\n",
    "\n",
    "* Determinar cuál es el número óptimo de retardos (observaciones) que el modelo debe considerar hacia atrás para producir el pronóstico.\n",
    "\n",
    "\n",
    "* Determinar los valores óptimos de la tasa de aprendizaje y el momentum.\n"
   ]
  },
  {
   "cell_type": "markdown",
   "execution_count": null,
   "metadata": {},
   "outputs": [],
   "source": [
    "# Angel Racini Meza\n",
    "## C.C 1017248189\n"
   ]
  },
  {
   "cell_type": "markdown",
   "execution_count": null,
   "metadata": {},
   "outputs": [],
   "source": [
    "## Importanto Librerias"
   ]
  },
  {
   "cell_type": "code",
   "execution_count": 153,
   "metadata": {},
   "outputs": [],
   "source": [
    "import pandas as pd\n",
    "import numpy as np \n",
    "import os\n",
    "from pathlib import Path\n",
    "from matplotlib import pyplot as plt\n",
    "from datetime import datetime\n",
    "%matplotlib inline"
   ]
  },
  {
   "cell_type": "markdown",
   "execution_count": null,
   "metadata": {},
   "outputs": [],
   "source": [
    "## Preprocesando los datos"
   ]
  },
  {
   "cell_type": "code",
   "execution_count": 152,
   "metadata": {},
   "outputs": [
    {
     "data": {
      "text/html": "<div>\n<style scoped>\n    .dataframe tbody tr th:only-of-type {\n        vertical-align: middle;\n    }\n\n    .dataframe tbody tr th {\n        vertical-align: top;\n    }\n\n    .dataframe thead th {\n        text-align: right;\n    }\n</style>\n<table border=\"1\" class=\"dataframe\">\n  <thead>\n    <tr style=\"text-align: right;\">\n      <th></th>\n      <th>Fecha</th>\n      <th>0</th>\n      <th>1</th>\n      <th>2</th>\n      <th>3</th>\n      <th>4</th>\n      <th>5</th>\n      <th>6</th>\n      <th>7</th>\n      <th>8</th>\n      <th>...</th>\n      <th>14</th>\n      <th>15</th>\n      <th>16</th>\n      <th>17</th>\n      <th>18</th>\n      <th>19</th>\n      <th>20</th>\n      <th>21</th>\n      <th>22</th>\n      <th>23</th>\n    </tr>\n  </thead>\n  <tbody>\n    <tr>\n      <th>0</th>\n      <td>1995-07-21</td>\n      <td>1.073</td>\n      <td>1.000</td>\n      <td>1.000</td>\n      <td>1.00</td>\n      <td>1.00</td>\n      <td>1.000</td>\n      <td>5.000</td>\n      <td>6.000</td>\n      <td>6.000</td>\n      <td>...</td>\n      <td>5.000</td>\n      <td>1.000</td>\n      <td>1.000</td>\n      <td>5.000</td>\n      <td>12.000</td>\n      <td>16.670</td>\n      <td>11.929</td>\n      <td>5.000</td>\n      <td>1.000</td>\n      <td>1.000</td>\n    </tr>\n    <tr>\n      <th>1</th>\n      <td>1995-07-22</td>\n      <td>1.073</td>\n      <td>1.073</td>\n      <td>1.000</td>\n      <td>1.00</td>\n      <td>1.00</td>\n      <td>1.073</td>\n      <td>1.303</td>\n      <td>1.303</td>\n      <td>1.303</td>\n      <td>...</td>\n      <td>1.073</td>\n      <td>1.000</td>\n      <td>1.000</td>\n      <td>1.000</td>\n      <td>1.303</td>\n      <td>2.500</td>\n      <td>2.500</td>\n      <td>1.303</td>\n      <td>1.073</td>\n      <td>1.073</td>\n    </tr>\n    <tr>\n      <th>2</th>\n      <td>1995-07-23</td>\n      <td>1.073</td>\n      <td>1.000</td>\n      <td>1.000</td>\n      <td>1.00</td>\n      <td>1.00</td>\n      <td>1.000</td>\n      <td>0.100</td>\n      <td>1.000</td>\n      <td>1.000</td>\n      <td>...</td>\n      <td>1.000</td>\n      <td>0.100</td>\n      <td>0.100</td>\n      <td>1.000</td>\n      <td>1.238</td>\n      <td>1.238</td>\n      <td>1.238</td>\n      <td>1.238</td>\n      <td>1.073</td>\n      <td>1.000</td>\n    </tr>\n    <tr>\n      <th>3</th>\n      <td>1995-07-24</td>\n      <td>1</td>\n      <td>1.000</td>\n      <td>0.990</td>\n      <td>1.00</td>\n      <td>1.00</td>\n      <td>1.073</td>\n      <td>3.000</td>\n      <td>3.000</td>\n      <td>3.000</td>\n      <td>...</td>\n      <td>1.073</td>\n      <td>1.073</td>\n      <td>3.000</td>\n      <td>2.000</td>\n      <td>18.630</td>\n      <td>22.500</td>\n      <td>9.256</td>\n      <td>3.000</td>\n      <td>1.073</td>\n      <td>1.000</td>\n    </tr>\n    <tr>\n      <th>4</th>\n      <td>1995-07-25</td>\n      <td>0.99</td>\n      <td>0.990</td>\n      <td>0.989</td>\n      <td>0.99</td>\n      <td>0.99</td>\n      <td>1.073</td>\n      <td>1.263</td>\n      <td>1.263</td>\n      <td>1.263</td>\n      <td>...</td>\n      <td>1.073</td>\n      <td>1.073</td>\n      <td>1.073</td>\n      <td>1.073</td>\n      <td>1.263</td>\n      <td>1.500</td>\n      <td>1.263</td>\n      <td>1.263</td>\n      <td>1.073</td>\n      <td>0.990</td>\n    </tr>\n  </tbody>\n</table>\n<p>5 rows × 25 columns</p>\n</div>",
      "text/plain": "        Fecha      0      1      2     3     4      5      6      7      8  \\\n0  1995-07-21  1.073  1.000  1.000  1.00  1.00  1.000  5.000  6.000  6.000   \n1  1995-07-22  1.073  1.073  1.000  1.00  1.00  1.073  1.303  1.303  1.303   \n2  1995-07-23  1.073  1.000  1.000  1.00  1.00  1.000  0.100  1.000  1.000   \n3  1995-07-24      1  1.000  0.990  1.00  1.00  1.073  3.000  3.000  3.000   \n4  1995-07-25   0.99  0.990  0.989  0.99  0.99  1.073  1.263  1.263  1.263   \n\n   ...     14     15     16     17      18      19      20     21     22  \\\n0  ...  5.000  1.000  1.000  5.000  12.000  16.670  11.929  5.000  1.000   \n1  ...  1.073  1.000  1.000  1.000   1.303   2.500   2.500  1.303  1.073   \n2  ...  1.000  0.100  0.100  1.000   1.238   1.238   1.238  1.238  1.073   \n3  ...  1.073  1.073  3.000  2.000  18.630  22.500   9.256  3.000  1.073   \n4  ...  1.073  1.073  1.073  1.073   1.263   1.500   1.263  1.263  1.073   \n\n      23  \n0  1.000  \n1  1.073  \n2  1.000  \n3  1.000  \n4  0.990  \n\n[5 rows x 25 columns]"
     },
     "execution_count": 152,
     "metadata": {},
     "output_type": "execute_result"
    }
   ],
   "source": [
    "#Extrayendo los archivos de la carpeta precios\n",
    "dfs =  []\n",
    "path  = r'C:\\Users\\ANGEL\\Desktop\\Trabajo Redes Neuronales\\evaluacion-arracinim\\datos\\precios'\n",
    "datos = os.listdir(path)\n",
    "\n",
    "Consolidado = pd.read_excel(path+\"\\\\\"+datos[0])\n",
    "Consolidado = Consolidado.iloc[:,0:25]\n",
    "Consolidado = Consolidado.dropna()\n",
    "Consolidado.rename(columns=Consolidado.iloc[0], inplace = True)\n",
    "Consolidado = Consolidado.drop(Consolidado.index[0])\n",
    "Consolidado.reset_index(drop=True, inplace=True)\n",
    "Consolidado.columns = ['Fecha', \"0\", \"1\", \"2\", \"3\", \"4\", \"5\", \"6\", \"7\", \"8\", \"9\", \"10\", \"11\", \"12\", \"13\", \"14\",                             \"15\", \"16\", \"17\", \"18\", \"19\", \"20\", \"21\", \"22\", \"23\"]\n",
    "\n",
    "file_number = 0\n",
    "\n",
    "for archivo in datos:\n",
    "    if file_number == 0:\n",
    "        file_number = file_number + 1\n",
    "    else:\n",
    "        df = pd.read_excel(path+\"\\\\\"+archivo)\n",
    "        df  = df.iloc[:,0:25]\n",
    "        df = df.dropna()       \n",
    "        df.rename(columns=Consolidado.iloc[0], inplace = True)\n",
    "        df = df.drop(df.index[0])\n",
    "        df.reset_index(drop=True, inplace=True)\n",
    "        df.columns = ['Fecha', \"0\", \"1\", \"2\", \"3\", \"4\", \"5\", \"6\", \"7\", \"8\", \"9\", \"10\", \"11\", \"12\", \"13\", \"14\",                             \"15\", \"16\", \"17\", \"18\", \"19\", \"20\", \"21\", \"22\", \"23\"]\n",
    "        Consolidado = pd.concat([Consolidado, df])\n",
    "\n",
    "#IMPRIMIENDO LOS PRIMEROS 5 REGISTROS DEL ARCHIVO CONSOLIDADO\n",
    "Consolidado.head(5)"
   ]
  },
  {
   "cell_type": "code",
   "execution_count": 154,
   "metadata": {},
   "outputs": [
    {
     "data": {
      "text/html": "<div>\n<style scoped>\n    .dataframe tbody tr th:only-of-type {\n        vertical-align: middle;\n    }\n\n    .dataframe tbody tr th {\n        vertical-align: top;\n    }\n\n    .dataframe thead th {\n        text-align: right;\n    }\n</style>\n<table border=\"1\" class=\"dataframe\">\n  <thead>\n    <tr style=\"text-align: right;\">\n      <th></th>\n      <th>Fecha</th>\n      <th>Precio_Promedio</th>\n      <th>Date_Month</th>\n      <th>IPC</th>\n      <th>Precio_Promedio_Ajustado</th>\n    </tr>\n  </thead>\n  <tbody>\n    <tr>\n      <th>0</th>\n      <td>1995-07-21</td>\n      <td>4.924333</td>\n      <td>1995-07</td>\n      <td>20.93</td>\n      <td>24.689897</td>\n    </tr>\n    <tr>\n      <th>1</th>\n      <td>1995-07-22</td>\n      <td>1.269500</td>\n      <td>1995-07</td>\n      <td>20.93</td>\n      <td>6.365090</td>\n    </tr>\n    <tr>\n      <th>2</th>\n      <td>1995-07-23</td>\n      <td>0.953083</td>\n      <td>1995-07</td>\n      <td>20.93</td>\n      <td>4.778622</td>\n    </tr>\n    <tr>\n      <th>3</th>\n      <td>1995-07-24</td>\n      <td>4.305917</td>\n      <td>1995-07</td>\n      <td>20.93</td>\n      <td>21.589245</td>\n    </tr>\n    <tr>\n      <th>4</th>\n      <td>1995-07-25</td>\n      <td>1.149167</td>\n      <td>1995-07</td>\n      <td>20.93</td>\n      <td>5.761756</td>\n    </tr>\n  </tbody>\n</table>\n</div>",
      "text/plain": "        Fecha  Precio_Promedio Date_Month    IPC  Precio_Promedio_Ajustado\n0  1995-07-21         4.924333    1995-07  20.93                 24.689897\n1  1995-07-22         1.269500    1995-07  20.93                  6.365090\n2  1995-07-23         0.953083    1995-07  20.93                  4.778622\n3  1995-07-24         4.305917    1995-07  20.93                 21.589245\n4  1995-07-25         1.149167    1995-07  20.93                  5.761756"
     },
     "execution_count": 154,
     "metadata": {},
     "output_type": "execute_result"
    }
   ],
   "source": [
    "#Obteniendo el promedio para cada dia\n",
    "Precios_Promedio = Consolidado.set_index('Fecha')\n",
    "Precios_Promedio['Precio_Promedio'] = Precios_Promedio.sum(axis = 1) / 24.0\n",
    "Precios_Promedio = Precios_Promedio.loc[:,'Precio_Promedio']\n",
    "Precios_Promedio = Precios_Promedio.reset_index()\n",
    "\n",
    "#Leyendolos datos del banco de la republica\n",
    "IPC = pd.read_excel(r\"C:\\Users\\ANGEL\\Desktop\\Trabajo Redes Neuronales\\evaluacion-arracinim\\1.2.5.IPC_Serie_variaciones.xlsx\", header = 12)\n",
    "IPC = IPC.iloc[:,0:2] \n",
    "IPC = IPC.iloc[:-6] #No nos interesa las ultima 6 columnas correspondientes a los creditos\n",
    "IPC.columns = ['Date_Month', 'IPC']\n",
    "\n",
    "#Convierto las fechas a formato YYYY-MM\n",
    "\n",
    "IPC['Date_Month'] = IPC['Date_Month'].astype(str)\n",
    "IPC['Date_Month'] = IPC['Date_Month'].apply(lambda x: x[:4] + '-' + x[4:])\n",
    "IPC['Date_Month'] = pd.to_datetime(IPC['Date_Month']).dt.to_period('M')\n",
    "Precios_Promedio['Date_Month'] = pd.to_datetime(Precios_Promedio['Fecha']).dt.to_period('M')\n",
    "\n",
    "\n",
    "#Haciendo un merge para calcular los nuevos precios\n",
    "Precios = pd.merge(Precios_Promedio, IPC[[\"Date_Month\", \"IPC\"]], on=\"Date_Month\", how=\"left\")\n",
    "\n",
    "#Recalculando el valor del peso al valor actual segun el IPC para cada fila\n",
    "IPC_ACTUAL = IPC.tail(1).iloc[0,1]\n",
    "Precios['Precio_Promedio_Ajustado'] =  Precios['Precio_Promedio'] * (IPC_ACTUAL / Precios['IPC'])\n",
    "Precios.head(5)"
   ]
  },
  {
   "cell_type": "code",
   "execution_count": 166,
   "metadata": {},
   "outputs": [],
   "source": [
    "#Obteniendo las columnas que se requieren con el fin de obtener \n",
    "Precios = Precios.loc[:,['Fecha', 'Precio_Promedio_Ajustado']]\n",
    "\n",
    "#Diviendo las fechas en Año, mes y dia.\n",
    "Precios['Fecha'] = pd.to_datetime(Precios['Fecha'], format='%Y-%m-%d')\n",
    "Precios['Año'] = Precios['Fecha'].dt.year\n",
    "Precios['Mes'] = Precios['Fecha'].dt.month\n",
    "Precios['Dia'] = Precios['Fecha'].dt.day\n",
    "Precios = Precios.loc[:,['Año', \"Mes\", \"Dia\", 'Precio_Promedio_Ajustado']]\n"
   ]
  },
  {
   "cell_type": "markdown",
   "metadata": {},
   "source": [
    "## Implementado el ADALINE como un Modelo Lineal "
   ]
  },
  {
   "cell_type": "code",
   "execution_count": null,
   "metadata": {},
   "outputs": [],
   "source": []
  }
 ],
 "metadata": {
  "colab": {
   "include_colab_link": true,
   "name": "Copia de Untitled3.ipynb",
   "provenance": [],
   "version": "0.3.2"
  },
  "kernelspec": {
   "display_name": "Python 3",
   "language": "python",
   "name": "python3"
  },
  "language_info": {
   "codemirror_mode": {
    "name": "ipython",
    "version": 3
   },
   "file_extension": ".py",
   "mimetype": "text/x-python",
   "name": "python",
   "nbconvert_exporter": "python",
   "pygments_lexer": "ipython3",
   "version": "3.7.3-final"
  }
 },
 "nbformat": 4,
 "nbformat_minor": 2
}